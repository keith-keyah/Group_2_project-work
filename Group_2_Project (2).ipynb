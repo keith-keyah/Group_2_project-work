{
  "nbformat": 4,
  "nbformat_minor": 0,
  "metadata": {
    "colab": {
      "provenance": []
    },
    "kernelspec": {
      "name": "python3",
      "display_name": "Python 3"
    },
    "language_info": {
      "name": "python"
    }
  },
  "cells": [
    {
      "cell_type": "markdown",
      "source": [
        "# Business Understanding\n",
        "- An NGO seeks to provide technical support as well as farm inputs to the farmers experiencing extremely low yield in the Karamoja region of Uganda.\n",
        "\n"
      ],
      "metadata": {
        "id": "2doNw2f81ngd"
      }
    },
    {
      "cell_type": "markdown",
      "source": [
        "# Problem Statement\n",
        "- The NGO lacks visibility into the overall state of the region and often needs to rely on some very local sources of information to prioritize their activities.\n",
        "Dalberg Data Insights (DDI) has been requested to develop a new food security monitoring tool to support the decision making of the NGO\n"
      ],
      "metadata": {
        "id": "Bl5_ukg12Gu_"
      }
    },
    {
      "cell_type": "markdown",
      "source": [
        "# Objectives\n"
      ],
      "metadata": {
        "id": "MoCbcmwg2wRX"
      }
    },
    {
      "cell_type": "markdown",
      "source": [
        "- Regions with lowest total yield\n",
        "- Regions with lowest sorghum yield per HA\n",
        "- Regions with lowest maize yield per HA\n",
        "- Correlation between population size and yield\n",
        "- Correlation between crop area and yield"
      ],
      "metadata": {
        "id": "XrTz04W-26Zl"
      }
    },
    {
      "cell_type": "markdown",
      "source": [
        "##  Success criteria\n",
        "* Understanding the areas that have the lowest yields in order for the NGO to prioritize in terms of resource distribution."
      ],
      "metadata": {
        "id": "nU9vycTk3FP5"
      }
    },
    {
      "cell_type": "markdown",
      "source": [
        "# Data Understanding\n"
      ],
      "metadata": {
        "id": "F-cry0pT1wLB"
      }
    },
    {
      "cell_type": "code",
      "source": [
        "# importing the neccessary libraries\n",
        "import pandas as pd\n",
        "import numpy as np\n",
        "import seaborn as sns\n",
        "import matplotlib.pyplot as plt"
      ],
      "metadata": {
        "id": "Ek6J64wqFcNv"
      },
      "execution_count": null,
      "outputs": []
    },
    {
      "cell_type": "code",
      "source": [
        "# Loading the data sets\n",
        "district_crop_yield = pd.read_csv('/content/Uganda_Karamoja_District_Crop_Yield_Population.csv')\n",
        "district_crop_yield.head()"
      ],
      "metadata": {
        "id": "Yu0vDitrFyG4"
      },
      "execution_count": null,
      "outputs": []
    },
    {
      "cell_type": "code",
      "source": [
        "subcounty_crop_yield = pd.read_csv('/content/Uganda_Karamoja_Subcounty_Crop_Yield_Population.csv')\n",
        "subcounty_crop_yield.head()"
      ],
      "metadata": {
        "id": "w6E4Lid9F97d"
      },
      "execution_count": null,
      "outputs": []
    },
    {
      "cell_type": "code",
      "source": [
        "# Checking the structure of the data sets\n",
        "district_crop_yield.info()"
      ],
      "metadata": {
        "id": "yNOrLtTiGXNU"
      },
      "execution_count": null,
      "outputs": []
    },
    {
      "cell_type": "code",
      "source": [
        "subcounty_crop_yield.info()"
      ],
      "metadata": {
        "id": "9c6RFfCBC3Ed"
      },
      "execution_count": null,
      "outputs": []
    },
    {
      "cell_type": "code",
      "source": [
        "# summary of descriptive statistics\n",
        "district_crop_yield.describe()"
      ],
      "metadata": {
        "id": "QSUlM5TyDL9-"
      },
      "execution_count": null,
      "outputs": []
    },
    {
      "cell_type": "code",
      "source": [
        "subcounty_crop_yield.describe()"
      ],
      "metadata": {
        "id": "iwl5enTXDLOW"
      },
      "execution_count": null,
      "outputs": []
    },
    {
      "cell_type": "code",
      "source": [
        "# Showing correlation of the numerical columns only and presenting it in a heat map\n",
        "district_crop_yield.select_dtypes(include='number').corr()"
      ],
      "metadata": {
        "id": "8-0SlnCtJl5i"
      },
      "execution_count": null,
      "outputs": []
    },
    {
      "cell_type": "code",
      "source": [
        "sns.heatmap(district_crop_yield.select_dtypes(include='number').corr(), annot=True)\n",
        "plt.rcParams['figure.figsize']=(20,10)\n",
        "plt.show()"
      ],
      "metadata": {
        "id": "xtwWM5oFLd5x"
      },
      "execution_count": null,
      "outputs": []
    },
    {
      "cell_type": "code",
      "source": [
        "subcounty_crop_yield.select_dtypes(include='number').corr()"
      ],
      "metadata": {
        "id": "DZYIh8T_ME7A"
      },
      "execution_count": null,
      "outputs": []
    },
    {
      "cell_type": "code",
      "source": [
        "sns.heatmap(subcounty_crop_yield.select_dtypes(include='number').corr(), annot=True)\n",
        "plt.rcParams['figure.figsize']=(20,10)\n",
        "plt.show()"
      ],
      "metadata": {
        "id": "xGJ_YFgdMPxi"
      },
      "execution_count": null,
      "outputs": []
    },
    {
      "cell_type": "markdown",
      "source": [
        "# Data Cleaning\n"
      ],
      "metadata": {
        "id": "7HX3bv0X14Xb"
      }
    },
    {
      "cell_type": "code",
      "source": [
        "# checking for null values\n",
        "district_crop_yield.isna().sum()"
      ],
      "metadata": {
        "id": "QcNlZHh_Ngv0"
      },
      "execution_count": null,
      "outputs": []
    },
    {
      "cell_type": "code",
      "source": [
        "subcounty_crop_yield.isna().sum()"
      ],
      "metadata": {
        "id": "UeFZMenIP-g0"
      },
      "execution_count": null,
      "outputs": []
    },
    {
      "cell_type": "markdown",
      "source": [
        "No null values found in both data sets"
      ],
      "metadata": {
        "id": "sD31-NeNQCtk"
      }
    },
    {
      "cell_type": "code",
      "source": [
        "# Checking columns in each dataset\n",
        "district_crop_yield.columns"
      ],
      "metadata": {
        "id": "dI1SoqPGQsoG"
      },
      "execution_count": null,
      "outputs": []
    },
    {
      "cell_type": "code",
      "source": [
        "subcounty_crop_yield.columns"
      ],
      "metadata": {
        "id": "vnjh6d48QyGb"
      },
      "execution_count": null,
      "outputs": []
    },
    {
      "cell_type": "code",
      "source": [
        "# creating new fields to show total production per district and sub-county"
      ],
      "metadata": {
        "id": "Bqnms5ysQ0jM"
      },
      "execution_count": null,
      "outputs": []
    },
    {
      "cell_type": "code",
      "source": [
        "district_crop_yield['Total_Yield'] = district_crop_yield['M_Prod_Tot'] + district_crop_yield['S_Prod_Tot']\n",
        "district_crop_yield.head()"
      ],
      "metadata": {
        "id": "RUEyCD0kS1bo"
      },
      "execution_count": null,
      "outputs": []
    },
    {
      "cell_type": "code",
      "source": [
        "subcounty_crop_yield['Total_Yield'] = subcounty_crop_yield['M_Prod_Tot'] + subcounty_crop_yield['S_Prod_Tot']\n",
        "subcounty_crop_yield.head()"
      ],
      "metadata": {
        "id": "AB4cw3BjSvuQ"
      },
      "execution_count": null,
      "outputs": []
    },
    {
      "cell_type": "code",
      "source": [
        "# Removing duplicates"
      ],
      "metadata": {
        "id": "VgBiLnHZU7Fq"
      },
      "execution_count": null,
      "outputs": []
    },
    {
      "cell_type": "code",
      "source": [
        "district_crop_yield.shape"
      ],
      "metadata": {
        "id": "r6v5UZVg5Nos"
      },
      "execution_count": null,
      "outputs": []
    },
    {
      "cell_type": "code",
      "source": [
        "district_yield_cleaned = district_crop_yield.drop_duplicates()\n",
        "district_yield_cleaned.shape"
      ],
      "metadata": {
        "id": "u3iwy7X2U_hR"
      },
      "execution_count": null,
      "outputs": []
    },
    {
      "cell_type": "code",
      "source": [
        "subcounty_crop_yield.shape"
      ],
      "metadata": {
        "id": "AGRALTdw5cDP"
      },
      "execution_count": null,
      "outputs": []
    },
    {
      "cell_type": "code",
      "source": [
        "subcounty_yield_cleaned = subcounty_crop_yield.drop_duplicates()\n",
        "subcounty_yield_cleaned.shape"
      ],
      "metadata": {
        "id": "nTV93Xkt5Skh"
      },
      "execution_count": null,
      "outputs": []
    },
    {
      "cell_type": "markdown",
      "source": [
        "The data sets do not have duplicate values"
      ],
      "metadata": {
        "id": "Q7AVKuRq5jgs"
      }
    },
    {
      "cell_type": "markdown",
      "source": [
        "# EDA - Exploratory data analysis\n"
      ],
      "metadata": {
        "id": "8Nirh_cN15nu"
      }
    },
    {
      "cell_type": "code",
      "source": [
        "# Checking regions with lowest yield"
      ],
      "metadata": {
        "id": "YMyE1GT65vlr"
      },
      "execution_count": null,
      "outputs": []
    },
    {
      "cell_type": "code",
      "source": [
        "# 4 districts with least yield overally\n",
        "district_yield_cleaned = district_yield_cleaned.sort_values(by='Total_Yield')\n",
        "print(district_yield_cleaned.head(4)['NAME'])"
      ],
      "metadata": {
        "id": "7tIaYySe51Hd"
      },
      "execution_count": null,
      "outputs": []
    },
    {
      "cell_type": "code",
      "source": [
        "# Presenting Disrict yield in a bar graph\n",
        "sns.barplot(data=district_yield_cleaned, x='NAME', y='Total_Yield', palette='viridis')\n",
        "plt.title('Total Yied per District', fontsize=20)\n",
        "plt.xlabel('Districts', fontsize=20)\n",
        "plt.ylabel('Total Yield', fontsize=20)\n",
        "plt.show()"
      ],
      "metadata": {
        "id": "Dwlgf7TA7UYk"
      },
      "execution_count": null,
      "outputs": []
    },
    {
      "cell_type": "code",
      "source": [
        "# 10 subcounties with the least yield\n",
        "subcounty_yield_cleaned = subcounty_yield_cleaned.sort_values(by='Total_Yield')\n",
        "print(subcounty_yield_cleaned.head(10)['SUBCOUNTY_NAME'])"
      ],
      "metadata": {
        "id": "0llDc03u6Agt"
      },
      "execution_count": null,
      "outputs": []
    },
    {
      "cell_type": "code",
      "source": [
        "# Presenting subcounty yield in a bargraph\n",
        "sns.barplot(subcounty_yield_cleaned, x='SUBCOUNTY_NAME', y='Total_Yield', palette='magma')\n",
        "plt.title('TOTAL YIELD PER SUB-COUNTY', fontsize=20)\n",
        "plt.xlabel('Districts', fontsize=20)\n",
        "plt.ylabel('Total Yield', fontsize=20)\n",
        "plt.xticks(rotation=45, ha='right')\n",
        "plt.show()"
      ],
      "metadata": {
        "id": "bta1T57q_s40"
      },
      "execution_count": null,
      "outputs": []
    },
    {
      "cell_type": "code",
      "source": [
        "# Lowest sorghum yield district and subcounty wise\n",
        "district_yield_cleaned = district_yield_cleaned.sort_values(by='S_Yield_Ha')\n",
        "print(district_yield_cleaned.head(4)['NAME'])"
      ],
      "metadata": {
        "id": "zeivSkNyDLcq"
      },
      "execution_count": null,
      "outputs": []
    },
    {
      "cell_type": "code",
      "source": [
        "# Presenting district sorghum yield in a bargraph\n",
        "sns.barplot(data=district_yield_cleaned, x='NAME', y='S_Yield_Ha', palette='Blues')\n",
        "plt.title('Sorghum Yield per HA District Wise', fontsize=20)\n",
        "plt.xlabel('Districts', fontsize=20)\n",
        "plt.ylabel('Total Yield', fontsize=20)\n",
        "plt.show()"
      ],
      "metadata": {
        "id": "jRc5Nb2KJfjq"
      },
      "execution_count": null,
      "outputs": []
    },
    {
      "cell_type": "code",
      "source": [
        "subcounty_yield_cleaned = subcounty_yield_cleaned.sort_values(by='S_Yield_Ha')\n",
        "print(subcounty_yield_cleaned.head(10)['SUBCOUNTY_NAME'])"
      ],
      "metadata": {
        "id": "hF19c_lwKhXI"
      },
      "execution_count": null,
      "outputs": []
    },
    {
      "cell_type": "code",
      "source": [
        "# Presenting subcounty sorghum yield in a bargraph\n",
        "sns.barplot(subcounty_yield_cleaned, x='SUBCOUNTY_NAME', y='S_Yield_Ha', palette='Greens')\n",
        "plt.title('Sorghum Yield per HA Sub-County Wise', fontsize=20)\n",
        "plt.xlabel('Districts', fontsize=20)\n",
        "plt.ylabel('Total Yield', fontsize=20)\n",
        "plt.xticks(rotation=45, ha='right')\n",
        "plt.show()"
      ],
      "metadata": {
        "id": "BodEBzT8KhUI"
      },
      "execution_count": null,
      "outputs": []
    },
    {
      "cell_type": "code",
      "source": [
        "# Lowest maize yield district and subcounty wise\n",
        "district_yield_cleaned = district_yield_cleaned.sort_values(by='M_Yield_Ha')\n",
        "print(district_yield_cleaned.head(4)['NAME'])"
      ],
      "metadata": {
        "colab": {
          "base_uri": "https://localhost:8080/"
        },
        "id": "M515Qh-jEMOt",
        "outputId": "2a65b8ad-62ce-4c09-cc4e-b75c36e5bab4"
      },
      "execution_count": null,
      "outputs": [
        {
          "output_type": "stream",
          "name": "stdout",
          "text": [
            "4     MOROTO\n",
            "6      NAPAK\n",
            "2    KAABONG\n",
            "0       ABIM\n",
            "Name: NAME, dtype: object\n"
          ]
        }
      ]
    },
    {
      "cell_type": "code",
      "source": [
        "# Presenting district maize yield in a bargraph\n",
        "sns.barplot(data=district_yield_cleaned, x='NAME', y='M_Yield_Ha', palette='Oranges')\n",
        "plt.title('Maize Yield per HA District Wise', fontsize=20)\n",
        "plt.xlabel('Districts', fontsize=20)\n",
        "plt.ylabel('Total Yield', fontsize=20)\n",
        "plt.show()"
      ],
      "metadata": {
        "id": "ksLmnXUnLJbU"
      },
      "execution_count": null,
      "outputs": []
    },
    {
      "cell_type": "code",
      "source": [
        "subcounty_yield_cleaned = subcounty_yield_cleaned.sort_values(by='M_Yield_Ha')\n",
        "print(subcounty_yield_cleaned.head(10)['SUBCOUNTY_NAME'])"
      ],
      "metadata": {
        "colab": {
          "base_uri": "https://localhost:8080/"
        },
        "id": "5I9i9NftLJQR",
        "outputId": "df9fa3a6-8d64-4375-a269-323a2ce30862"
      },
      "execution_count": null,
      "outputs": [
        {
          "output_type": "stream",
          "name": "stdout",
          "text": [
            "33    SOUTHERN DIVISION\n",
            "31                TAPAC\n",
            "32    NORTHERN DIVISION\n",
            "45               MATANY\n",
            "44               LOTOME\n",
            "47            NGOLERIET\n",
            "29           KATIKEKILE\n",
            "30             NADUNGET\n",
            "9              KALAPATA\n",
            "6         KAABONG  EAST\n",
            "Name: SUBCOUNTY_NAME, dtype: object\n"
          ]
        }
      ]
    },
    {
      "cell_type": "code",
      "source": [
        "# Presenting subcounty maize yield in a bargraph\n",
        "sns.barplot(subcounty_yield_cleaned, x='SUBCOUNTY_NAME', y='M_Yield_Ha', palette='Purples')\n",
        "plt.title('Maize Yield per HA Sub-County Wise', fontsize=20)\n",
        "plt.xlabel('Districts', fontsize=20)\n",
        "plt.ylabel('Total Yield', fontsize=20)\n",
        "plt.xticks(rotation=45, ha='right')\n",
        "plt.show()"
      ],
      "metadata": {
        "id": "Lc6IWoUsLJCJ"
      },
      "execution_count": null,
      "outputs": []
    },
    {
      "cell_type": "code",
      "source": [
        "# Correlation between population and total production\n",
        "sns.scatterplot(data=district_yield_cleaned, x='POP', y='Total_Yield')\n",
        "plt.title('District Population against Total Production', fontsize=20)\n",
        "plt.xlabel('Districts', fontsize=20)\n",
        "plt.ylabel('Total Yield', fontsize=20)\n",
        "np.corrcoef(district_yield_cleaned['POP'],district_yield_cleaned['Total_Yield'])[0,1]"
      ],
      "metadata": {
        "id": "RtQKk75OMeuw"
      },
      "execution_count": null,
      "outputs": []
    },
    {
      "cell_type": "code",
      "source": [
        "sns.scatterplot(data=subcounty_yield_cleaned, x='POP', y='Total_Yield')\n",
        "plt.title('Sub-County Population against Total Production', fontsize=20)\n",
        "plt.xlabel('Districts', fontsize=20)\n",
        "plt.ylabel('Total Yield', fontsize=20)\n",
        "plt.xticks(rotation=45, ha='right')\n",
        "np.corrcoef(subcounty_yield_cleaned['POP'],subcounty_yield_cleaned['Total_Yield'])[0,1]"
      ],
      "metadata": {
        "id": "_Al-8znDNUap"
      },
      "execution_count": null,
      "outputs": []
    },
    {
      "cell_type": "code",
      "source": [
        "# Correlation between crop area and total production\n",
        "sns.scatterplot(data=district_yield_cleaned, x='Crop_Area_Ha', y='Total_Yield')\n",
        "plt.title('District Crop Area against Total Production', fontsize=20)\n",
        "plt.xlabel('Districts', fontsize=20)\n",
        "plt.ylabel('Total Yield', fontsize=20)\n",
        "np.corrcoef(district_yield_cleaned['Crop_Area_Ha'],district_yield_cleaned['Total_Yield'])[0,1]"
      ],
      "metadata": {
        "id": "PjdVompPEj35"
      },
      "execution_count": null,
      "outputs": []
    },
    {
      "cell_type": "code",
      "source": [
        "sns.scatterplot(data=subcounty_yield_cleaned, x='Crop_Area_Ha', y='Total_Yield')\n",
        "plt.title('Sub-County Crop Area against Total Production', fontsize=20)\n",
        "plt.xlabel('Districts', fontsize=20)\n",
        "plt.ylabel('Total Yield', fontsize=20)\n",
        "plt.xticks(rotation=45, ha='right')\n",
        "np.corrcoef(subcounty_yield_cleaned['Crop_Area_Ha'],subcounty_yield_cleaned['Total_Yield'])[0,1]"
      ],
      "metadata": {
        "id": "uGhjCqt3E8aj"
      },
      "execution_count": null,
      "outputs": []
    },
    {
      "cell_type": "markdown",
      "source": [
        "## key findings\n",
        "- 4 Districts with lowest total yield:\n",
        "\n",
        "     * MOROTO\n",
        "     * ABIM\n",
        "     * AMUDAT\n",
        "     * NAPAK\n",
        "\n",
        "- 10 Sub-Counties with lowest total yield:\n",
        "\n",
        "     * SOUTHERN DIVISION\n",
        "     * NORTHERN DIVISION\n",
        "     * AMUDAT TOWN COUNCIL\n",
        "     * NAKAPIRIPIRIT TOWN COUNCIL\n",
        "     * KAABONG TOWN COUNCIL\n",
        "     * KATIKEKILE\n",
        "     * LODIKO\n",
        "     * KAABONG  EAST\n",
        "     * NGOLERIET\n",
        "     * TAPAC\n",
        "\n",
        "- 4 Districts with lowest sorghum yield per HA:\n",
        "\n",
        "    * MOROTO\n",
        "    * NAPAK\n",
        "    * AMUDAT\n",
        "    * KAABONG\n",
        "\n",
        "- 10 Sub-Counties with lowest sorghum yield per HA:\n",
        "\n",
        "     * LOPEEI\n",
        "     * RUPA\n",
        "     * SOUTHERN DIVISION\n",
        "     * LOKOPO\n",
        "     * LOTOME\n",
        "     * MATANY\n",
        "     * NORTHERN DIVISION\n",
        "     * NADUNGET\n",
        "     * NGOLERIET\n",
        "     * AMUDAT TOWN COUNCIL\n",
        "\n",
        "- 4 Districts with lowest maize yield per HA:\n",
        "\n",
        "     * MOROTO\n",
        "     * NAPAK\n",
        "     * KAABONG\n",
        "     * ABIM\n",
        "\n",
        "- 10 Sub-Counties with lowest maize yield per HA:\n",
        "\n",
        "     * SOUTHERN DIVISION\n",
        "     * TAPAC\n",
        "     * NORTHERN DIVISION\n",
        "     * MATANY\n",
        "     * LOTOME\n",
        "     * NGOLERIET\n",
        "     * KATIKEKILE\n",
        "     * NADUNGET\n",
        "     * KALAPATA\n",
        "     * KAABONG  EAST\n",
        "\n",
        "- Correlation between population size and total yield\n",
        "\n",
        "There is a weak but positive correlation between population size and total yield.\n",
        "\n",
        "- Correlation between crop area and total yield\n",
        "\n",
        "There is a strong and positive correlation between crop area and total yield."
      ],
      "metadata": {
        "id": "65OFFyQz4Rfp"
      }
    },
    {
      "cell_type": "markdown",
      "source": [
        "# Conclusions\n",
        "1. Regions with Lowest Total Yield\n",
        "\n",
        "The findings highlight the following districts and sub-counties with the lowest total yield.\n",
        "\n",
        "  * Districts: Moroto, Abim, Amudat, and Napak.\n",
        "\n",
        "  * Sub-Counties: Southern Division, Northern Division, Amudat Town Council, Nakapiripirit Town Council, Kaabong Town Council, Katikekile, Lodiko, Kaabong East, Ngoleriet, and Tapac.\n",
        "\n",
        "2.  Regions with Lowest Maize Yield per HA\n",
        "\n",
        "The findings identify the following districts and sub-counties that are struggling specifically with sorghum production.\n",
        "\n",
        "  * Districts: Moroto, Napak, Amudat, and Kaabong.\n",
        "\n",
        "  * Sub-Counties: Lopeei, Rupa, Southern Division, Lokopo, Lotome, Matany, Northern Division, Nadunget, Ngoleriet, and Amudat Town Council.\n",
        "\n",
        "3.  Regions with Lowest Maize Yield per HA\n",
        "The findings point to the districts and sub-counties with the lowest maize yields per hectare.\n",
        "\n",
        "  * Districts: Moroto, Napak, Kaabong, and Abim.\n",
        "\n",
        "  * Sub-Counties: Southern Division, Tapac, Northern Division, Matany, Lotome, Ngoleriet, Katikekile, Nadunget, Kalapata, and Kaabong East.\n",
        "\n",
        "4.  There is a weak but positive correlation between population size and total yield, suggesting that as the population increases, total yield tends to increase as well.\n",
        "\n",
        "5. The more area a region has allocated for crops, the higher the chance of a bigger yield."
      ],
      "metadata": {
        "id": "WW4y54X318To"
      }
    },
    {
      "cell_type": "markdown",
      "source": [
        "# Recommendations /Next steps\n",
        "1. As the region also suffers from pests and disease outbreak, it would be important to explore the effect of these on crop production as well.\n",
        "2. It is important to also analyze the impact of farming practices used across the region on different crop yields.\n",
        "3. Population is a huge factor in farming. It is worth exploring how population density and not just the absolute numbers, affects productivity.\n"
      ],
      "metadata": {
        "id": "K5uaSO9Z2AjG"
      }
    },
    {
      "cell_type": "code",
      "source": [],
      "metadata": {
        "id": "C5WSW9HjeGFN"
      },
      "execution_count": null,
      "outputs": []
    }
  ]
}